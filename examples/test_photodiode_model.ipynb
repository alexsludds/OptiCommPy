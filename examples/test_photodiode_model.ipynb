{
 "cells": [
  {
   "cell_type": "markdown",
   "id": "1d350053",
   "metadata": {},
   "source": [
    "<a href=\"https://colab.research.google.com/github/edsonportosilva/OptiCommPy/blob/main/examples/basic_OOK_transmission.ipynb\" target=\"_parent\"><img src=\"https://colab.research.google.com/assets/colab-badge.svg\" alt=\"Open In Colab\"/></a>"
   ]
  },
  {
   "cell_type": "markdown",
   "id": "c2e98874",
   "metadata": {},
   "source": [
    "# Test photodiode model"
   ]
  },
  {
   "cell_type": "code",
   "execution_count": 32,
   "id": "260581a2",
   "metadata": {
    "ExecuteTime": {
     "end_time": "2025-04-11T12:13:40.822090Z",
     "start_time": "2025-04-11T12:13:40.816122Z"
    }
   },
   "outputs": [],
   "source": [
    "if 'google.colab' in str(get_ipython()):    \n",
    "    ! git clone -b main https://github.com/edsonportosilva/OptiCommPy\n",
    "    from os import chdir as cd\n",
    "    cd('/content/OptiCommPy/')\n",
    "    ! pip install . "
   ]
  },
  {
   "cell_type": "code",
   "execution_count": 33,
   "id": "b068549f",
   "metadata": {
    "ExecuteTime": {
     "end_time": "2025-04-11T12:13:40.832923Z",
     "start_time": "2025-04-11T12:13:40.824351Z"
    }
   },
   "outputs": [],
   "source": [
    "import numpy as np\n",
    "from optic.models.devices import mzm, photodiode, voa\n",
    "from optic.comm.modulation import modulateGray\n",
    "from optic.comm.metrics import bert\n",
    "from optic.dsp.core import upsample, pulseShape, lowPassFIR, pnorm, signal_power\n",
    "\n",
    "try:\n",
    "    from optic.dsp.coreGPU import checkGPU\n",
    "    if checkGPU():\n",
    "        from optic.dsp.coreGPU import firFilter\n",
    "    else:\n",
    "        from optic.dsp.core import firFilter\n",
    "except ImportError:\n",
    "    from optic.dsp.core import firFilter\n",
    "\n",
    "from optic.utils import parameters, dBm2W\n",
    "from optic.plot import eyediagram\n",
    "import matplotlib.pyplot as plt\n",
    "from scipy.special import erfc\n",
    "from tqdm.notebook import tqdm\n",
    "import scipy as sp"
   ]
  },
  {
   "cell_type": "code",
   "execution_count": 34,
   "id": "0172e774",
   "metadata": {
    "ExecuteTime": {
     "end_time": "2025-04-11T12:13:40.837840Z",
     "start_time": "2025-04-11T12:13:40.833935Z"
    }
   },
   "outputs": [
    {
     "data": {
      "text/html": [
       "\n",
       "<style>\n",
       ".output_png {\n",
       "    display: table-cell;\n",
       "    text-align: center;\n",
       "    vertical-align: middle;\n",
       "}\n",
       "</style>\n"
      ],
      "text/plain": [
       "<IPython.core.display.HTML object>"
      ]
     },
     "execution_count": 34,
     "metadata": {},
     "output_type": "execute_result"
    }
   ],
   "source": [
    "from IPython.core.display import HTML\n",
    "from IPython.core.pylabtools import figsize\n",
    "\n",
    "HTML(\"\"\"\n",
    "<style>\n",
    ".output_png {\n",
    "    display: table-cell;\n",
    "    text-align: center;\n",
    "    vertical-align: middle;\n",
    "}\n",
    "</style>\n",
    "\"\"\")"
   ]
  },
  {
   "cell_type": "code",
   "execution_count": 58,
   "id": "ed4afba1",
   "metadata": {
    "ExecuteTime": {
     "end_time": "2025-04-11T12:32:13.031218Z",
     "start_time": "2025-04-11T12:32:13.027809Z"
    }
   },
   "outputs": [],
   "source": [
    "# plotting options \n",
    "figsize(6, 3)\n",
    "font = {'size'   : 10}\n",
    "plt.rc('font', **font)\n",
    "plt.rc('text', usetex=True)"
   ]
  },
  {
   "cell_type": "code",
   "execution_count": 59,
   "id": "5e878db1",
   "metadata": {
    "ExecuteTime": {
     "end_time": "2025-04-11T12:32:13.248466Z",
     "start_time": "2025-04-11T12:32:13.244028Z"
    }
   },
   "outputs": [],
   "source": [
    "np.random.seed(seed=123) # fixing the seed to get reproducible results"
   ]
  },
  {
   "cell_type": "markdown",
   "id": "b3613ad6",
   "metadata": {},
   "source": [
    "### Intensity modulation direct-detection (IM/DD) with On-Off Keying (OOK)"
   ]
  },
  {
   "cell_type": "code",
   "execution_count": 73,
   "id": "2b0bf7c8",
   "metadata": {
    "ExecuteTime": {
     "end_time": "2025-04-11T12:41:58.622317Z",
     "start_time": "2025-04-11T12:41:58.544193Z"
    }
   },
   "outputs": [
    {
     "name": "stdout",
     "output_type": "stream",
     "text": [
      "Average power of the modulated optical signal [dBm]: 16.99 dBm\n"
     ]
    }
   ],
   "source": [
    "# simulation parameters\n",
    "SpS = 16     # samples per symbol\n",
    "M = 2        # order of the modulation format\n",
    "Rs = 50e9    # Symbol rate (for OOK case Rs = Rb)\n",
    "Fs = Rs*SpS  # Sampling frequency\n",
    "Ts = 1/Fs    # Sampling period\n",
    "\n",
    "# Laser power\n",
    "Pi_dBm = 20        # laser optical power at the input of the MZM in dBm\n",
    "Pi = dBm2W(Pi_dBm) # convert from dBm to W\n",
    "\n",
    "# MZM parameters\n",
    "paramMZM = parameters()\n",
    "paramMZM.Vpi = 2\n",
    "paramMZM.Vb = -paramMZM.Vpi/2\n",
    "\n",
    "# generate pseudo-random bit sequence\n",
    "bitsTx = np.random.randint(2, size=100000)\n",
    "\n",
    "# generate 2-PAM modulated symbol sequence\n",
    "symbTx = modulateGray(bitsTx, M, 'pam')    \n",
    "symbTx = pnorm(symbTx) # power normalization\n",
    "\n",
    "# upsampling\n",
    "symbolsUp = upsample(symbTx, SpS)\n",
    "\n",
    "# typical NRZ pulse\n",
    "pulse = pulseShape('nrz', SpS)\n",
    "\n",
    "# pulse shaping\n",
    "sigTx = firFilter(pulse, symbolsUp)\n",
    "sigTx /=np.max(np.abs(sigTx))\n",
    "\n",
    "# optical modulation\n",
    "Ai = np.sqrt(Pi)\n",
    "sigTxo = mzm(Ai, sigTx, paramMZM)\n",
    "\n",
    "print('Average power of the modulated optical signal [dBm]: %.2f dBm'%(10*np.log10(signal_power(sigTxo)/1e-3)))"
   ]
  },
  {
   "cell_type": "code",
   "execution_count": 74,
   "id": "12e282ea",
   "metadata": {
    "ExecuteTime": {
     "end_time": "2025-04-11T12:42:08.449553Z",
     "start_time": "2025-04-11T12:41:59.374810Z"
    },
    "scrolled": false
   },
   "outputs": [
    {
     "data": {
      "application/vnd.jupyter.widget-view+json": {
       "model_id": "5496c5fa80aa45b2948380da2f481e7f",
       "version_major": 2,
       "version_minor": 0
      },
      "text/plain": [
       "  0%|          | 0/20 [00:00<?, ?it/s]"
      ]
     },
     "metadata": {},
     "output_type": "display_data"
    },
    {
     "data": {
      "application/vnd.jupyter.widget-view+json": {
       "model_id": "483b93d307f440bfb6ca4d86ce2debf6",
       "version_major": 2,
       "version_minor": 0
      },
      "text/plain": [
       "  0%|          | 0/20 [00:00<?, ?it/s]"
      ]
     },
     "metadata": {},
     "output_type": "display_data"
    },
    {
     "data": {
      "application/vnd.jupyter.widget-view+json": {
       "model_id": "89d75d7fa5b24b529de6f18f0800c140",
       "version_major": 2,
       "version_minor": 0
      },
      "text/plain": [
       "  0%|          | 0/20 [00:00<?, ?it/s]"
      ]
     },
     "metadata": {},
     "output_type": "display_data"
    },
    {
     "data": {
      "image/png": "[encoded data removed]",
      "text/plain": [
       "<Figure size 600x300 with 1 Axes>"
      ]
     },
     "metadata": {},
     "output_type": "display_data"
    }
   ],
   "source": [
    "# photodiode parameters\n",
    "paramPD = parameters()\n",
    "paramPD.shotNoise = True\n",
    "paramPD.thermalNoise = False\n",
    "paramPD.bandwidthLimitation = True\n",
    "paramPD.B = 4*Rs\n",
    "paramPD.Fs = Fs\n",
    "\n",
    "attenuation = np.arange(10, 30)\n",
    "BER = np.zeros(attenuation.shape)\n",
    "Q = np.zeros(attenuation.shape)\n",
    "\n",
    "for cases in range(3):    \n",
    "    if cases == 0:\n",
    "        title = 'shot noise only'\n",
    "        paramPD.shotNoise = True\n",
    "        paramPD.thermalNoise = False\n",
    "    elif cases == 1:\n",
    "        title = 'thermal noise only'\n",
    "        paramPD.shotNoise = False\n",
    "        paramPD.thermalNoise = True\n",
    "    else:\n",
    "        title = 'shot noise + thermal noise'\n",
    "        paramPD.shotNoise = True\n",
    "        paramPD.thermalNoise = True\n",
    "        \n",
    "    for ind, att in enumerate(tqdm(attenuation)):\n",
    "        sigAtt = voa(sigTxo, att)\n",
    "        I_Rx = photodiode(sigAtt, paramPD)         \n",
    "        I_Rx = I_Rx/np.std(I_Rx)    \n",
    "        I_Rx = I_Rx[0::SpS]    \n",
    "        BER[ind], Q[ind] = bert(I_Rx, bitsTx)\n",
    "        \n",
    "        \n",
    "    Ptx = 10*np.log10(signal_power(sigTxo)/1e-3)\n",
    "    Prx = Ptx-attenuation\n",
    "    plt.plot(Prx, 10*np.log10(Q),'-o', label=title)\n",
    "    \n",
    "plt.xlabel('Received optical power [dBm]')\n",
    "plt.ylabel('Q-factor [dB]')\n",
    "plt.grid()\n",
    "plt.legend()\n",
    "plt.xlim(min(Prx), max(Prx));"
   ]
  },
  {
   "cell_type": "code",
   "execution_count": null,
   "id": "80da3089",
   "metadata": {},
   "outputs": [],
   "source": []
  }
 ],
 "metadata": {
  "jupytext": {
   "formats": "ipynb,py:light"
  },
  "kernelspec": {
   "display_name": "Python 3 (ipykernel)",
   "language": "python",
   "name": "python3"
  },
  "language_info": {
   "codemirror_mode": {
    "name": "ipython",
    "version": 3
   },
   "file_extension": ".py",
   "mimetype": "text/x-python",
   "name": "python",
   "nbconvert_exporter": "python",
   "pygments_lexer": "ipython3",
   "version": "3.11.10"
  },
  "toc": {
   "base_numbering": 1,
   "nav_menu": {},
   "number_sections": true,
   "sideBar": true,
   "skip_h1_title": false,
   "title_cell": "Table of Contents",
   "title_sidebar": "Contents",
   "toc_cell": false,
   "toc_position": {},
   "toc_section_display": true,
   "toc_window_display": false
  }
 },
 "nbformat": 4,
 "nbformat_minor": 5
}
